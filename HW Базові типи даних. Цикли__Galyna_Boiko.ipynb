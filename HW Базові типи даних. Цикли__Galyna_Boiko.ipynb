{
 "cells": [
  {
   "cell_type": "markdown",
   "id": "5b1cae7d",
   "metadata": {},
   "source": [
    "1.Задане значення у змінній var. Перетворіть значення в змінній var на цілочисельне, запишіть в нову змінну `var_int` та виведіть тип нової змінної `var_int`."
   ]
  },
  {
   "cell_type": "code",
   "execution_count": 38,
   "id": "d93f77ed",
   "metadata": {
    "ExecuteTime": {
     "end_time": "2023-06-13T11:52:35.489925Z",
     "start_time": "2023-06-13T11:52:35.487238Z"
    }
   },
   "outputs": [],
   "source": [
    "var = '1224'"
   ]
  },
  {
   "cell_type": "code",
   "execution_count": 39,
   "id": "5a4afe8f",
   "metadata": {},
   "outputs": [
    {
     "data": {
      "text/plain": [
       "int"
      ]
     },
     "execution_count": 39,
     "metadata": {},
     "output_type": "execute_result"
    }
   ],
   "source": [
    "var_int = int(var)\n",
    "type(var_int)"
   ]
  },
  {
   "cell_type": "markdown",
   "id": "eb3d19d8",
   "metadata": {
    "ExecuteTime": {
     "end_time": "2023-06-13T13:00:19.611699Z",
     "start_time": "2023-06-13T13:00:19.607737Z"
    }
   },
   "source": [
    "2.У Вас є список слів. Виведіть кожне третє слово в списку."
   ]
  },
  {
   "cell_type": "code",
   "execution_count": 49,
   "id": "477f4ced",
   "metadata": {
    "ExecuteTime": {
     "end_time": "2023-06-13T13:00:02.052801Z",
     "start_time": "2023-06-13T13:00:02.048798Z"
    }
   },
   "outputs": [],
   "source": [
    "words = [\"apple\", \"banana\", \"cherry\", \"date\", \"elderberry\", \"fig\", \"grape\", \"honeydew\", \"ice cream\", \"jackfruit\", \"kiwi\", \"lemon\", \"mango\", \"nectarine\", \"orange\", \"pineapple\", \"quince\", \"raspberry\", \"strawberry\", \"tangerine\", \"ugli fruit\", \"vanilla\", \"watermelon\", \"xigua\", \"yam\", \"zucchini\"]"
   ]
  },
  {
   "cell_type": "code",
   "execution_count": 50,
   "id": "1b73ca2f",
   "metadata": {},
   "outputs": [
    {
     "name": "stdout",
     "output_type": "stream",
     "text": [
      "['cherry', 'fig', 'ice cream', 'lemon', 'orange', 'raspberry', 'ugli fruit', 'xigua']\n"
     ]
    }
   ],
   "source": [
    "every_third_word = words[2:-1:3] #start, stop, step \n",
    "print(every_third_word)"
   ]
  },
  {
   "cell_type": "markdown",
   "id": "394d1dea",
   "metadata": {},
   "source": [
    "3.Скільки всього СЛІВ у списку `words`?"
   ]
  },
  {
   "cell_type": "code",
   "execution_count": 51,
   "id": "83c88182",
   "metadata": {},
   "outputs": [
    {
     "data": {
      "text/plain": [
       "26"
      ]
     },
     "execution_count": 51,
     "metadata": {},
     "output_type": "execute_result"
    }
   ],
   "source": [
    "len(words)"
   ]
  },
  {
   "cell_type": "markdown",
   "id": "703d1620",
   "metadata": {
    "ExecuteTime": {
     "end_time": "2023-06-13T13:03:17.414285Z",
     "start_time": "2023-06-13T13:03:17.409285Z"
    }
   },
   "source": [
    "4.Скільки всього ЛІТЕР в усіх словах у списку words?"
   ]
  },
  {
   "cell_type": "code",
   "execution_count": 52,
   "id": "c44d04d9",
   "metadata": {},
   "outputs": [
    {
     "name": "stdout",
     "output_type": "stream",
     "text": [
      "180\n"
     ]
    }
   ],
   "source": [
    "count = 0\n",
    "for word in words:\n",
    "    for letter in word:\n",
    "        count +=1\n",
    "print (count)"
   ]
  },
  {
   "cell_type": "code",
   "execution_count": 53,
   "id": "c4dd1bdf",
   "metadata": {},
   "outputs": [
    {
     "name": "stdout",
     "output_type": "stream",
     "text": [
      "180\n"
     ]
    }
   ],
   "source": [
    "count = sum(len(word) for word in words)\n",
    "print(count)"
   ]
  },
  {
   "cell_type": "markdown",
   "id": "4c95f6a3",
   "metadata": {},
   "source": [
    "5.Скільки разів зустрічається кожна літера в усіх словах списку `words`? Відсортуйте літери в результуючому словнику за алфавітним порядком."
   ]
  },
  {
   "cell_type": "code",
   "execution_count": 56,
   "id": "f6cff6cb",
   "metadata": {},
   "outputs": [
    {
     "data": {
      "text/plain": [
       "{' ': 2,\n",
       " 'a': 20,\n",
       " 'b': 4,\n",
       " 'c': 8,\n",
       " 'd': 3,\n",
       " 'e': 24,\n",
       " 'f': 3,\n",
       " 'g': 7,\n",
       " 'h': 3,\n",
       " 'i': 15,\n",
       " 'j': 1,\n",
       " 'k': 2,\n",
       " 'l': 8,\n",
       " 'm': 5,\n",
       " 'n': 15,\n",
       " 'o': 5,\n",
       " 'p': 7,\n",
       " 'q': 1,\n",
       " 'r': 19,\n",
       " 's': 2,\n",
       " 't': 7,\n",
       " 'u': 6,\n",
       " 'v': 1,\n",
       " 'w': 4,\n",
       " 'x': 1,\n",
       " 'y': 6,\n",
       " 'z': 1}"
      ]
     },
     "execution_count": 56,
     "metadata": {},
     "output_type": "execute_result"
    }
   ],
   "source": [
    "dict_words = {}\n",
    "#спочатку ми проходимося по списку і додаємо скільки разів кожна літера там зустрічається \n",
    "for word in words:\n",
    "    for letter in word:\n",
    "        if letter in dict_words:\n",
    "            dict_words[letter] += 1\n",
    "        else:\n",
    "            dict_words[letter] = 1\n",
    "\n",
    "dict_words_keys = dict_words.keys()\n",
    "sorted_dict_words_keys = sorted(dict_words_keys)\n",
    "sorted_dict_words = {}\n",
    "for key in sorted_dict_words_keys:\n",
    "  sorted_dict_words[key] = dict_words[key]\n",
    "\n",
    "sorted_dict_words"
   ]
  },
  {
   "cell_type": "code",
   "execution_count": 59,
   "id": "b1abcde8",
   "metadata": {},
   "outputs": [
    {
     "data": {
      "text/plain": [
       "{' ': 2,\n",
       " 'a': 20,\n",
       " 'b': 4,\n",
       " 'c': 8,\n",
       " 'd': 3,\n",
       " 'e': 24,\n",
       " 'f': 3,\n",
       " 'g': 7,\n",
       " 'h': 3,\n",
       " 'i': 15,\n",
       " 'j': 1,\n",
       " 'k': 2,\n",
       " 'l': 8,\n",
       " 'm': 5,\n",
       " 'n': 15,\n",
       " 'o': 5,\n",
       " 'p': 7,\n",
       " 'q': 1,\n",
       " 'r': 19,\n",
       " 's': 2,\n",
       " 't': 7,\n",
       " 'u': 6,\n",
       " 'v': 1,\n",
       " 'w': 4,\n",
       " 'x': 1,\n",
       " 'y': 6,\n",
       " 'z': 1}"
      ]
     },
     "execution_count": 59,
     "metadata": {},
     "output_type": "execute_result"
    }
   ],
   "source": [
    "dict_words = {}\n",
    "#спочатку ми проходимося по списку і додаємо додаємо в словник скільки разів кожна літера там зустрічається \n",
    "for word in words:\n",
    "    for letter in word:\n",
    "        if letter in dict_words:\n",
    "            dict_words[letter] += 1\n",
    "        else:\n",
    "            dict_words[letter] = 1\n",
    "\n",
    "sorted_dict_words_keys = sorted(dict_words.keys()) #cтворюємо список з відсортованими ключами  \n",
    "#створюємо словник, куди додаємо відсортовані ключі та їх значення з dict_words\n",
    "sorted_dict_words = {} \n",
    "for key in sorted_dict_words_keys:\n",
    "  sorted_dict_words[key] = dict_words[key]\n",
    "\n",
    "sorted_dict_words"
   ]
  },
  {
   "cell_type": "code",
   "execution_count": 60,
   "id": "6be4d2d4",
   "metadata": {},
   "outputs": [],
   "source": [
    "words = [\"apple\", \"banana\", \"cherry\", \"date\", \"elderberry\", \"fig\", \"grape\", \"honeydew\", \"ice cream\", \"jackfruit\", \"kiwi\", \"lemon\", \"mango\", \"nectarine\", \"orange\", \"pineapple\", \"quince\", \"raspberry\", \"strawberry\", \"tangerine\", \"ugli fruit\", \"vanilla\", \"watermelon\", \"xigua\", \"yam\", \"zucchini\"]\n",
    "dict_words = {}\n",
    "\n",
    "for word in words:\n",
    "    for letter in word:\n",
    "        if letter in dict_words:\n",
    "            dict_words[letter] += 1\n",
    "        else:\n",
    "            dict_words[letter] = 1\n",
    "                    \n",
    "sorted_dict_words = {key: dict_words[key] for key in dict_words.keys()}"
   ]
  },
  {
   "cell_type": "markdown",
   "id": "94d9f1cc",
   "metadata": {},
   "source": [
    "Очікуваний результат: \n",
    "```\n",
    "{' ': 2,\n",
    " 'a': 20,\n",
    " 'b': 4,\n",
    " 'c': 8,\n",
    " 'd': 3,\n",
    " 'e': 24,\n",
    " 'f': 3,\n",
    " 'g': 7,\n",
    " 'h': 3,\n",
    " 'i': 15,\n",
    " 'j': 1,\n",
    " 'k': 2,\n",
    " 'l': 8,\n",
    " 'm': 5,\n",
    " 'n': 15,\n",
    " 'o': 5,\n",
    " 'p': 7,\n",
    " 'q': 1,\n",
    " 'r': 19,\n",
    " 's': 2,\n",
    " 't': 7,\n",
    " 'u': 6,\n",
    " 'v': 1,\n",
    " 'w': 4,\n",
    " 'x': 1,\n",
    " 'y': 6,\n",
    " 'z': 1}\n",
    " ```"
   ]
  },
  {
   "cell_type": "markdown",
   "id": "c93ac384",
   "metadata": {},
   "source": [
    "6.Використовуючи результат виконання попереднього завдання, виведіть на екран ту літеру, яка зустрічається найчастіше і скільки разів вона зустрічається. Це треба зробити програмно, а не просто подививщись на дані :) "
   ]
  },
  {
   "cell_type": "code",
   "execution_count": 61,
   "id": "6f883210",
   "metadata": {},
   "outputs": [
    {
     "name": "stdout",
     "output_type": "stream",
     "text": [
      "Літера 'e' зустрічається 24 разів.\n"
     ]
    }
   ],
   "source": [
    "most_frequent_letter = max(sorted_dict_words, key = sorted_dict_words.get)\n",
    "frequency_of_most_frequent_letter = sorted_dict_words[most_frequent_letter]\n",
    "\n",
    "print(f\"Літера '{most_frequent_letter}' зустрічається {frequency_of_most_frequent_letter} разів.\")"
   ]
  },
  {
   "cell_type": "markdown",
   "id": "f40adbed",
   "metadata": {},
   "source": [
    "7.Для кожного елементу списку виведіть тип елемену. Якщо тип обʼєкту - int (тільки цей тип безпосередньо!), виведіть результат піднесення цього числа до степеню 5."
   ]
  },
  {
   "cell_type": "code",
   "execution_count": 62,
   "id": "a16d7016",
   "metadata": {},
   "outputs": [
    {
     "name": "stdout",
     "output_type": "stream",
     "text": [
      "The type of element 248832 is <class 'int'>\n",
      "This is a number! Let's take it to power 5! The result is: 248832\n",
      "The type of element type is <class 'str'>\n",
      "The type of element Bob is <class 'str'>\n",
      "The type of element True is <class 'bool'>\n",
      "The type of element False is <class 'str'>\n",
      "The type of element 1.414 is <class 'float'>\n",
      "The type of element 1444.333 is <class 'float'>\n",
      "The type of element 3.727272727272727 is <class 'float'>\n",
      "The type of element 3125 is <class 'int'>\n",
      "This is a number! Let's take it to power 5! The result is: 3125\n"
     ]
    }
   ],
   "source": [
    "elements = [12, 'type', 'Bob', True, 'False', 1.414, 1444.333, 123/33, 5]\n",
    "for el in elements:\n",
    "    if type(el) == int:\n",
    "        el = el**5\n",
    "        print(f\"The type of element {el} is {type(el)}\")\n",
    "        print (f\"This is a number! Let's take it to power 5! The result is: {el}\")\n",
    "    else:\n",
    "        print(f\"The type of element {el} is {type(el)}\")"
   ]
  },
  {
   "cell_type": "markdown",
   "id": "cf2247c7",
   "metadata": {
    "ExecuteTime": {
     "end_time": "2023-06-13T12:55:17.795510Z",
     "start_time": "2023-06-13T12:55:17.787158Z"
    }
   },
   "source": [
    "Приклад очікуваного результату (текстові коментарі і форматування можуть бути іншими):\n",
    "```\n",
    "    The type of element 12 is <class 'int'>\n",
    "    This is a number! Let't take it to power 5! The result is: 248832\n",
    "    The type of element type is <class 'str'>\n",
    "    The type of element Bob is <class 'str'>\n",
    "    The type of element True is <class 'bool'>\n",
    "    The type of element False is <class 'str'>\n",
    "    The type of element 1.414 is <class 'float'>\n",
    "    The type of element 1444.333 is <class 'float'>\n",
    "    The type of element 3.727272727272727 is <class 'float'>\n",
    "    The type of element 5 is <class 'int'>\n",
    "    This is a number! Let't take it to power 5! The result is: 3125\n",
    "```"
   ]
  },
  {
   "cell_type": "markdown",
   "id": "76a0bef2",
   "metadata": {},
   "source": [
    "8.Створіть програму, яка:\n",
    "\n",
    "- Для визначених значень `name` та `age` друкує повідомлення \"Привіт, [Ім’я] ! Вам [Вік] років.\".\n",
    "- Обчислює, скільки років залишилося користувачеві до 100 років, і друкує повідомлення з цією інформацією: \"До 100 років Вам лишилось [Число] років.\"  \n",
    "\n",
    "Запустіть програму для набору користувачів нижче."
   ]
  },
  {
   "cell_type": "code",
   "execution_count": null,
   "id": "0092963a",
   "metadata": {
    "ExecuteTime": {
     "end_time": "2023-06-13T12:30:11.462941Z",
     "start_time": "2023-06-13T12:30:11.459673Z"
    }
   },
   "outputs": [],
   "source": [
    "users = [\n",
    "    ['Karl', 30],\n",
    "    ['Klara', 15],\n",
    "    ['Alexis', 56],\n",
    "    ['Charles', 99]\n",
    "]"
   ]
  },
  {
   "cell_type": "code",
   "execution_count": 35,
   "id": "8d6d820e",
   "metadata": {},
   "outputs": [
    {
     "name": "stdout",
     "output_type": "stream",
     "text": [
      "Привіт, Karl! Вам 30 років.\n",
      "До 100 років Вам лишилось 70 років.\n",
      "Привіт, Klara! Вам 15 років.\n",
      "До 100 років Вам лишилось 85 років.\n",
      "Привіт, Alexis! Вам 56 років.\n",
      "До 100 років Вам лишилось 44 років.\n",
      "Привіт, Charles! Вам 99 років.\n",
      "До 100 років Вам лишилось 1 років.\n"
     ]
    }
   ],
   "source": [
    "def how_long_till_hundred (name, age):\n",
    "    print (f\"Привіт, {name}! Вам {age} років.\")\n",
    "    years_left = 100 - age\n",
    "    print (f\"До 100 років Вам лишилось {years_left} років.\")\n",
    "    \n",
    "users = [\n",
    "    ['Karl', 30],\n",
    "    ['Klara', 15],\n",
    "    ['Alexis', 56],\n",
    "    ['Charles', 99]\n",
    "]   \n",
    "    \n",
    "for user in users: \n",
    "    name, age = user #розпакування списку \n",
    "    how_long_till_hundred (name, age)"
   ]
  },
  {
   "cell_type": "code",
   "execution_count": 34,
   "id": "93a29e89",
   "metadata": {},
   "outputs": [
    {
     "name": "stdout",
     "output_type": "stream",
     "text": [
      "Привіт, Karl! Вам 30 років.\n",
      "До 100 років Вам лишилось 70 років.\n",
      "Привіт, Klara! Вам 15 років.\n",
      "До 100 років Вам лишилось 85 років.\n",
      "Привіт, Alexis! Вам 56 років.\n",
      "До 100 років Вам лишилось 44 років.\n",
      "Привіт, Charles! Вам 99 років.\n",
      "До 100 років Вам лишилось 1 років.\n"
     ]
    }
   ],
   "source": [
    "def how_long_till_hundred (name, age):\n",
    "    print (f\"Привіт, {name}! Вам {age} років.\")\n",
    "    years_left = 100 - age\n",
    "    print (f\"До 100 років Вам лишилось {years_left} років.\")\n",
    "    \n",
    "users = [\n",
    "    ['Karl', 30],\n",
    "    ['Klara', 15],\n",
    "    ['Alexis', 56],\n",
    "    ['Charles', 99]\n",
    "]   \n",
    "    \n",
    "for user in users: \n",
    "    how_long_till_hundred (* user) #розпакування списку "
   ]
  },
  {
   "cell_type": "markdown",
   "id": "45fedbc4",
   "metadata": {},
   "source": [
    "9.Напишіть фрагмент коду, який перевіряє, чи слово є паліндромом. Слово (або фраза) є паліндромом, якщо при читанні його зворотньому напрямі буде таке саме слово.\n",
    "Наприклад, слово \"radar\" є паліндромом, але \"radix\" не є паліндромом. Код в кінці має видавати результат True або False.  \n",
    "Код має звертати увагу лише на символи-літери. Регістр літер не має значення, а знаки пунктуації (кома, крапка) та `-+=/\\`` мають бути вилучені з рядка перед перевіркою. Так само, пробіли не впливають на визначення,чи слово є палендромом. Мають значення лише літери.\n",
    "Тобто рядки \"A mam, a\" та \"A mamA\" є паліндромами, а \"AmamU\" - ні.\n",
    "\n",
    "Опціонально ви можете розмістити код на перевірку чи є слово паліндромом у фукнцію.\n",
    "Запустіть свій код для рядків з набору нижче і виведіть результат перевірки на екран для кожного рядка."
   ]
  },
  {
   "cell_type": "markdown",
   "id": "e51c421d",
   "metadata": {},
   "source": [
    "Очкувані результати обчислень:\n",
    "```\n",
    "    radar - True\n",
    "    radix - False\n",
    "    A mam, a - True\n",
    "    A mamA - True\n",
    "    Sit on a potato pan Otis - True\n",
    "    Taco cat. - True\n",
    "    Taco cat - True\n",
    "    Tornado - False\n",
    "    Go hang a salami, I'm a lasagna hog. - True\n",
    "```"
   ]
  },
  {
   "cell_type": "code",
   "execution_count": 63,
   "id": "c2ba13a3",
   "metadata": {},
   "outputs": [
    {
     "name": "stdout",
     "output_type": "stream",
     "text": [
      "radar - True\n",
      "radix - False\n",
      "A mam, a - True\n",
      "A mamA - True\n",
      "Sit on a potato pan Otis - True\n",
      "Taco cat. - True\n",
      "Taco cat - True\n",
      "Tornado - False\n",
      "Go hang a salami, I'm a lasagna hog. - True\n"
     ]
    }
   ],
   "source": [
    "phrases_to_check = [\n",
    "    'radar',\n",
    "    'radix',\n",
    "    'A mam, a',\n",
    "    'A mamA',\n",
    "    'Sit on a potato pan Otis',\n",
    "    'Taco cat.',\n",
    "    'Taco cat',\n",
    "    'Tornado',\n",
    "    \"Go hang a salami, I'm a lasagna hog.\",\n",
    "]\n",
    "#Створюємо словник, щоб зберегти обидва варіанти - початковий та почищений \n",
    "phrases_dict = {word: word.replace(' ', '').replace('.', '').replace(',', '').replace(\"'\", '').replace('=', '').replace('+', '').replace('-', '').replace('/', '').lower() for word in phrases_to_check}\n",
    "\n",
    "for original, cleaned in phrases_dict.items():\n",
    "    print(f\"{original} - {cleaned == cleaned[::-1]}\")"
   ]
  }
 ],
 "metadata": {
  "kernelspec": {
   "display_name": "Python 3 (ipykernel)",
   "language": "python",
   "name": "python3"
  },
  "language_info": {
   "codemirror_mode": {
    "name": "ipython",
    "version": 3
   },
   "file_extension": ".py",
   "mimetype": "text/x-python",
   "name": "python",
   "nbconvert_exporter": "python",
   "pygments_lexer": "ipython3",
   "version": "3.9.12"
  },
  "toc": {
   "base_numbering": 1,
   "nav_menu": {},
   "number_sections": true,
   "sideBar": true,
   "skip_h1_title": false,
   "title_cell": "Table of Contents",
   "title_sidebar": "Contents",
   "toc_cell": false,
   "toc_position": {},
   "toc_section_display": true,
   "toc_window_display": false
  }
 },
 "nbformat": 4,
 "nbformat_minor": 5
}
