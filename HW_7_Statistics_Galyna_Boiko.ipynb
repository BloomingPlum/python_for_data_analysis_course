{
  "cells": [
    {
      "cell_type": "markdown",
      "id": "e152f6d6",
      "metadata": {
        "ExecuteTime": {
          "end_time": "2022-12-10T14:29:24.703416Z",
          "start_time": "2022-12-10T14:29:24.688485Z"
        },
        "id": "e152f6d6"
      },
      "source": [
        "## Домашнє завдання 7: Статистичний аналіз даних"
      ]
    },
    {
      "cell_type": "markdown",
      "id": "cd404683",
      "metadata": {
        "id": "cd404683"
      },
      "source": [
        "0.Зчитайте дані з `data.csv` та запишіть значення колонки data у форматі np.ndarray в змінну data. Ми будемо далі працювати з цією змінною."
      ]
    },
    {
      "cell_type": "code",
      "execution_count": 1,
      "id": "b20b6ba2",
      "metadata": {
        "colab": {
          "base_uri": "https://localhost:8080/"
        },
        "id": "b20b6ba2",
        "outputId": "7df75360-9f89-45ac-d22b-1f8409349dea"
      },
      "outputs": [
        {
          "output_type": "stream",
          "name": "stdout",
          "text": [
            "Requirement already satisfied: statsmodels in /usr/local/lib/python3.10/dist-packages (0.14.0)\n",
            "Requirement already satisfied: numpy>=1.18 in /usr/local/lib/python3.10/dist-packages (from statsmodels) (1.23.5)\n",
            "Requirement already satisfied: scipy!=1.9.2,>=1.4 in /usr/local/lib/python3.10/dist-packages (from statsmodels) (1.10.1)\n",
            "Requirement already satisfied: pandas>=1.0 in /usr/local/lib/python3.10/dist-packages (from statsmodels) (1.5.3)\n",
            "Requirement already satisfied: patsy>=0.5.2 in /usr/local/lib/python3.10/dist-packages (from statsmodels) (0.5.3)\n",
            "Requirement already satisfied: packaging>=21.3 in /usr/local/lib/python3.10/dist-packages (from statsmodels) (23.1)\n",
            "Requirement already satisfied: python-dateutil>=2.8.1 in /usr/local/lib/python3.10/dist-packages (from pandas>=1.0->statsmodels) (2.8.2)\n",
            "Requirement already satisfied: pytz>=2020.1 in /usr/local/lib/python3.10/dist-packages (from pandas>=1.0->statsmodels) (2023.3)\n",
            "Requirement already satisfied: six in /usr/local/lib/python3.10/dist-packages (from patsy>=0.5.2->statsmodels) (1.16.0)\n",
            "Requirement already satisfied: scipy in /usr/local/lib/python3.10/dist-packages (1.10.1)\n",
            "Requirement already satisfied: numpy<1.27.0,>=1.19.5 in /usr/local/lib/python3.10/dist-packages (from scipy) (1.23.5)\n"
          ]
        }
      ],
      "source": [
        "!pip install statsmodels\n",
        "!pip install scipy"
      ]
    },
    {
      "cell_type": "code",
      "source": [
        "import math\n",
        "import random\n",
        "import re\n",
        "\n",
        "import scipy\n",
        "import matplotlib.pyplot as plt\n",
        "import numpy as np\n",
        "import pandas as pd\n",
        "import statsmodels.api as sm\n",
        "from scipy import stats as st\n",
        "from scipy.stats import norm"
      ],
      "metadata": {
        "id": "qrjwhrHqVS8w"
      },
      "id": "qrjwhrHqVS8w",
      "execution_count": 2,
      "outputs": []
    },
    {
      "cell_type": "code",
      "source": [
        "data = pd.read_csv('data.csv')"
      ],
      "metadata": {
        "id": "_PauSzrFVImb"
      },
      "id": "_PauSzrFVImb",
      "execution_count": 3,
      "outputs": []
    },
    {
      "cell_type": "code",
      "source": [
        "type(data)"
      ],
      "metadata": {
        "colab": {
          "base_uri": "https://localhost:8080/"
        },
        "id": "I2rPmlADNEjT",
        "outputId": "4c1f6a7f-1ed5-42bd-fd99-7361884b9648"
      },
      "id": "I2rPmlADNEjT",
      "execution_count": 4,
      "outputs": [
        {
          "output_type": "execute_result",
          "data": {
            "text/plain": [
              "pandas.core.frame.DataFrame"
            ]
          },
          "metadata": {},
          "execution_count": 4
        }
      ]
    },
    {
      "cell_type": "markdown",
      "id": "3d06cbbf",
      "metadata": {
        "id": "3d06cbbf"
      },
      "source": [
        "Запустіть код нижче. Для коректної робити всіх подальших методів дані мають бути у вигляді одновимірного вектора, тобто мати розмір (100,)."
      ]
    },
    {
      "cell_type": "code",
      "execution_count": 5,
      "id": "cce1632b",
      "metadata": {
        "colab": {
          "base_uri": "https://localhost:8080/"
        },
        "id": "cce1632b",
        "outputId": "49f4b9ec-9717-4dba-85ac-ee6242774cb1"
      },
      "outputs": [
        {
          "output_type": "execute_result",
          "data": {
            "text/plain": [
              "(100, 2)"
            ]
          },
          "metadata": {},
          "execution_count": 5
        }
      ],
      "source": [
        "data.shape"
      ]
    },
    {
      "cell_type": "code",
      "source": [
        "data = data.iloc[:,1]"
      ],
      "metadata": {
        "id": "rkIlNY1HMRdE"
      },
      "id": "rkIlNY1HMRdE",
      "execution_count": 6,
      "outputs": []
    },
    {
      "cell_type": "code",
      "source": [
        "data.shape"
      ],
      "metadata": {
        "colab": {
          "base_uri": "https://localhost:8080/"
        },
        "id": "AOAieojUNj8n",
        "outputId": "78fbc0b0-fd8f-4ac1-98b2-8f7817934354"
      },
      "id": "AOAieojUNj8n",
      "execution_count": 9,
      "outputs": [
        {
          "output_type": "execute_result",
          "data": {
            "text/plain": [
              "(100,)"
            ]
          },
          "metadata": {},
          "execution_count": 9
        }
      ]
    },
    {
      "cell_type": "markdown",
      "id": "8dc4aa91",
      "metadata": {
        "ExecuteTime": {
          "end_time": "2022-12-10T09:23:15.841042Z",
          "start_time": "2022-12-10T09:23:15.820896Z"
        },
        "id": "8dc4aa91"
      },
      "source": [
        "## Перевірка вибірки на нормальність"
      ]
    },
    {
      "cell_type": "markdown",
      "id": "5bfe9273",
      "metadata": {
        "ExecuteTime": {
          "end_time": "2022-12-10T09:35:55.583520Z",
          "start_time": "2022-12-10T09:35:55.577220Z"
        },
        "id": "5bfe9273"
      },
      "source": [
        "1.**Візуалізація розподілу**\n",
        "\n",
        "Подивимось спершу на розподіл наших даних. Для цього побудуємо розподіл даних (графік на вигляд як гістограма, тільки він нормований так, аби сума під кривою була рівна 1), а на нього накладемо лінійний графік щільності (PDF) нормального розподілу з середнім та стандартним відхиленням як у наших даних.\n",
        "Цей варіант візуалізації швидший та простіший, ніж той, що наводився у лекції  ми будували кілька кривих щільності для одних і тих самих даних. Побудуйте графік як наведено в очікуваному результаті та напишіть ваш висновок, чи схоже, що дані розподілені нормально?\n",
        "\n",
        "Підказка: весь графік будується за 6 рядків коду, три з яких - підписи осей і графіку. Аби побудувати лінійний графік функції щільності та він наклався на гістограму, необхідно задати значення іксів з діапазону значень наших даних. Ці значення вже задані для вас, залишилось дописати 5 рядочків коду :)"
      ]
    },
    {
      "cell_type": "code",
      "execution_count": 10,
      "id": "22ad6811",
      "metadata": {
        "ExecuteTime": {
          "end_time": "2022-12-10T09:42:05.346737Z",
          "start_time": "2022-12-10T09:42:05.343690Z"
        },
        "id": "22ad6811"
      },
      "outputs": [],
      "source": [
        "x_axis = np.arange(data.min(), data.max(), 0.01)\n"
      ]
    },
    {
      "cell_type": "code",
      "source": [
        "x_axis = np.arange(data.min(), data.max(), 0.01) #Створюємо масив значень з мін до макс з кроком 0.01.\n",
        "plt.hist(data, bins=10, density=True) #density - щільність в цьому діапазоні в порівнянні з іншими діапазонами\n",
        "plt.plot(x_axis, norm.pdf(x_axis, data.mean(), data.std()))\n",
        "plt.title('Distribution of the data');\n",
        "plt.xlabel('data value'); plt.ylabel('p (x)');\n",
        "plt.show()"
      ],
      "metadata": {
        "colab": {
          "base_uri": "https://localhost:8080/",
          "height": 472
        },
        "id": "OCrXZjHkTYWA",
        "outputId": "52260920-04d2-4dda-8db3-ed7e2cc319c1"
      },
      "id": "OCrXZjHkTYWA",
      "execution_count": 11,
      "outputs": [
        {
          "output_type": "display_data",
          "data": {
            "text/plain": [
              "<Figure size 640x480 with 1 Axes>"
            ],
            "image/png": "[encoded data removed]"
          },
          "metadata": {}
        }
      ]
    },
    {
      "cell_type": "markdown",
      "id": "992eeef4",
      "metadata": {
        "id": "992eeef4"
      },
      "source": [
        "Очікуваний результат:"
      ]
    },
    {
      "cell_type": "markdown",
      "source": [
        "**На графіку ми бачимо bell curve (дзвіновидну криву), вона є більшою мірою симетричною, викидів практично немає, тому можна вважати цей розподіл нормальним.**"
      ],
      "metadata": {
        "id": "Z9cZiqTugXj9"
      },
      "id": "Z9cZiqTugXj9"
    },
    {
      "cell_type": "markdown",
      "source": [],
      "metadata": {
        "id": "B7uXbh1-gXLT"
      },
      "id": "B7uXbh1-gXLT"
    },
    {
      "cell_type": "markdown",
      "id": "95870720",
      "metadata": {
        "id": "95870720"
      },
      "source": [
        "![image-2.png](attachment:image-2.png)"
      ]
    },
    {
      "cell_type": "markdown",
      "id": "646b2f36",
      "metadata": {
        "id": "646b2f36"
      },
      "source": [
        "2.**QQ графік**\n",
        "\n",
        "Ще одним візуалізаційним методом перевірки розподілу вибірки даних на нормальність є графік квантиль-квантиль, Q-Q графік або QQ графік.\n",
        "\n",
        "Цей графік генерує власну вибірку (sample) ідеалізованого розподілу, з яким ми порівнюємо наші дані, у цьому випадку розподіл Гауса. Дані ідеалізованої вибірки поділяються на групи (наприклад, 5), які називаються квантилями. Кожна точка наших даних поєднується з подібним членом з ідеалізованого розподілу.\n",
        "\n",
        "Отримані точки будуються як діаграма розсіювання з ідеалізованим значенням на осі абсцис (х) і вибіркою даних на осі ординат (у).\n",
        "\n",
        "Якщо наша вибірка даних ідеально збігається з ідеалізованою, то це буде виглядати на графіку як лінія точок під кутом 45 градусів від нижнього лівого кута графіка до верхнього правого. Часто на графіку малюють додаткову лінію, щоб допомогти зрозуміти це очікування. Відхилення крапок від лінії очікувань (ідеального варіанту) показує відхилення наших даних від очікуваного розподілу.\n",
        "\n",
        "Ми можемо розробити діаграму QQ в Python за допомогою функції [statsmodels qqplot()](https://www.statsmodels.org/dev/generated/statsmodels.graphics.gofplots.qqplot.html). Функція бере вибірку даних і за замовчуванням припускає, що ми порівнюємо її з розподілом Гауса. Ми можемо намалювати стандартизовану лінію, встановивши для аргументу `line` значення `s`.\n",
        "\n",
        "**Ваша задача тут**: вивести qq графік з допомогою зазначеного методу та написати висновок, чи розподіл є нормальним згідно з цим графіку.\n",
        "Як інтерпретувати QQ графіки - наведено на картинці нижче."
      ]
    },
    {
      "cell_type": "markdown",
      "id": "e28bb4f1",
      "metadata": {
        "id": "e28bb4f1"
      },
      "source": [
        "![image.png](attachment:image.png)"
      ]
    },
    {
      "cell_type": "code",
      "execution_count": 12,
      "id": "0ff54dad",
      "metadata": {
        "id": "0ff54dad",
        "colab": {
          "base_uri": "https://localhost:8080/",
          "height": 451
        },
        "outputId": "f4fe6beb-decc-4ea7-b7d6-d7564fdb8b10"
      },
      "outputs": [
        {
          "output_type": "display_data",
          "data": {
            "text/plain": [
              "<Figure size 640x480 with 1 Axes>"
            ],
            "image/png": "[encoded data removed]"
          },
          "metadata": {}
        }
      ],
      "source": [
        "from scipy.stats import shapiro\n",
        "sm.qqplot(data, line='s')\n",
        "plt.show()"
      ]
    },
    {
      "cell_type": "markdown",
      "source": [
        "**Згідно цього графіку розподіл є нормальним, оскільки даних на кінцях лінії менше.**\n"
      ],
      "metadata": {
        "id": "Yy8vLbc5blXs"
      },
      "id": "Yy8vLbc5blXs"
    },
    {
      "cell_type": "markdown",
      "id": "f66877d4",
      "metadata": {
        "id": "f66877d4"
      },
      "source": [
        "Очікуваний результат:"
      ]
    },
    {
      "cell_type": "markdown",
      "id": "2e71bead",
      "metadata": {
        "id": "2e71bead"
      },
      "source": [
        "![image.png](attachment:image.png)"
      ]
    },
    {
      "cell_type": "markdown",
      "id": "789a19c2",
      "metadata": {
        "id": "789a19c2"
      },
      "source": [
        "3.**Тест Шапіро-Вілка**\n",
        "\n",
        "Тест Шапіро-Вілка визначає для вибірки, наскільки ймовірно, що вона була витягнута з нормального розподілу.\n",
        "Нульова гіпотеза H0 тесту Шапіро-Вилка полягає в тому, що випадкова величина, вибірка якої відома, розподілена за нормальним законом. Альтернативна гіпотеза H1 полягає в тому, що закон розподілу **не** є нормальним.\n",
        "\n",
        "**Задача**: протестувати нашу вибірку на нормальність з допомогою тета Шапіро-Вілка, реалізованого в функцію [scipy.stats.shapiro](https://docs.scipy.org/doc/scipy/reference/generated/scipy.stats.shapiro.html). Висновок зробіть на основі аналізу p-значення. На рівні значущості = 0.05 чи можемо ми відхилити гіпотезу Н0? Відповідь можна надати текстом, або написати простий if-else блок для виведення висновку спираючись на отримане p-значення. Нагадування:\n",
        "- p <= alpha: відхиляємо H0.\n",
        "- p > alpha: не можемо відхилити H0.\n",
        "\n",
        "Також пропоную вам переглянути оце [відео](https://youtu.be/eh9eYLBecWk), тут розказується про QQ графік, тест Шапіро, та звʼязок між ними.\n"
      ]
    },
    {
      "cell_type": "code",
      "execution_count": 36,
      "id": "7663930f",
      "metadata": {
        "id": "7663930f",
        "colab": {
          "base_uri": "https://localhost:8080/"
        },
        "outputId": "8ee4488d-08f1-4cac-8db6-9b4838f81fe0"
      },
      "outputs": [
        {
          "output_type": "stream",
          "name": "stdout",
          "text": [
            "Statistic is 0.988785982131958\n",
            "P-value is 0.5678303241729736\n",
            "Не можемо відхилити нульову гіпотезу\n"
          ]
        }
      ],
      "source": [
        "import scipy.stats as stats\n",
        "stat, p_value = stats.shapiro(data)\n",
        "print(\"Statistic is\", stat)\n",
        "print(\"P-value is\", p_value)\n",
        "alpha = 0.05\n",
        "if p_value < alpha:\n",
        "    conclusion = \"Відхиляємо нульову гіпотезу.\"\n",
        "else:\n",
        "    conclusion = \"Не можемо відхилити нульову гіпотезу.\"\n",
        "print (conclusion)"
      ]
    },
    {
      "cell_type": "markdown",
      "id": "927270b2",
      "metadata": {
        "ExecuteTime": {
          "end_time": "2022-12-10T14:30:52.780680Z",
          "start_time": "2022-12-10T14:30:52.773811Z"
        },
        "id": "927270b2"
      },
      "source": [
        "## Z-test"
      ]
    },
    {
      "cell_type": "markdown",
      "id": "abdcef5d",
      "metadata": {
        "id": "abdcef5d"
      },
      "source": [
        "4.Уявіть, що наші дані - це сума покупок в доларах наших покупців на сайті протягом липня 2022 року.\n",
        "До цього місяця, ми мали продажі в середньому на чек $20. Чи вийшло у нас статистично значущо **підвищити** середній чек за останній місяць? Виведіть p-значення статистичного тесту та зробіть висновок, чи ми маємо зараз статистично значущу різницю у розмірі середнього чеку.\n",
        "**Підказка**: треба провести одновибірочний z-test."
      ]
    },
    {
      "cell_type": "code",
      "execution_count": 37,
      "id": "ad9ac50d",
      "metadata": {
        "id": "ad9ac50d",
        "colab": {
          "base_uri": "https://localhost:8080/"
        },
        "outputId": "e019d773-d3d5-456b-873d-7d04a4476436"
      },
      "outputs": [
        {
          "output_type": "stream",
          "name": "stdout",
          "text": [
            "Z test score is -0.9953477389335053\n",
            "P-value is 0.8402164165464012\n",
            "We cannot reject the null hypothesis (we didn't manage to increase the avarage check with statistical significance).\n"
          ]
        }
      ],
      "source": [
        "from statsmodels.stats.weightstats import ztest\n",
        "null_mean = 20\n",
        "alpha = 0.05\n",
        "ztest_Score, p_value = ztest(data,value = null_mean, alternative='larger')\n",
        "print(\"Z test score is\", ztest_Score)\n",
        "print(\"P-value is\", p_value)\n",
        "if(p_value <  alpha):\n",
        "  print(\"We must reject the null hypothesis (we managed to increase the avarage check with statistical significance).\")\n",
        "else:\n",
        "  print(\"We cannot reject the null hypothesis (we didn't manage to increase the avarage check with statistical significance).\")"
      ]
    },
    {
      "cell_type": "markdown",
      "source": [
        "**Z test score мінусовий, це свідчить про те, що середній чек за липень нижчий ніж до цього місяця. P-value значно вище ніж 0.05, тому ми не можемо спростувати нульову гіпотезу.**"
      ],
      "metadata": {
        "id": "GH_HOsg3ZiMZ"
      },
      "id": "GH_HOsg3ZiMZ"
    },
    {
      "cell_type": "markdown",
      "id": "05219e41",
      "metadata": {
        "ExecuteTime": {
          "end_time": "2022-12-10T14:52:46.140204Z",
          "start_time": "2022-12-10T14:52:46.112068Z"
        },
        "id": "05219e41"
      },
      "source": [
        "5.Пройшов час, і ми зібрали дані про продажі за серпень 2022 року, які зберігли у файл `data_2.csv`. Продажів було дещо більше, але чи змінився стат. значущо середній чек порівняно з липнем 2022? Перевірте це використовуючи ztest.\n",
        "Виведіть p-значення статистичного тесту та зробіть висновок, чи ми маємо зараз статистично значущу різницю у розмірі середнього чека між двома місяцями.\n",
        "\n",
        "**Підказка**: треба провести двовибірковий ztest з Н0 - що середні значення в липні та серпні 2022 року - однакові. Для кращого розуміння ситуації, можливо вам буде цікаво переглянути, які середні показники чеку були в кожен з місяців :) Порівняйте свій висновок з простого спостереження середніх значень і висновок статистичного тесту. Чи вони збігаються?"
      ]
    },
    {
      "cell_type": "code",
      "execution_count": 15,
      "id": "7af0ec61",
      "metadata": {
        "id": "7af0ec61"
      },
      "outputs": [],
      "source": [
        "data2 = pd.read_csv('data_2.csv')"
      ]
    },
    {
      "cell_type": "code",
      "source": [
        "print(f'Середній чек за липень - {np.mean(data)}')\n",
        "print(f'Середній чек за серпень - {data2[\"data\"].mean()}')\n"
      ],
      "metadata": {
        "colab": {
          "base_uri": "https://localhost:8080/"
        },
        "id": "zD9N9K4OTPHi",
        "outputId": "f39d9ba8-4874-4ebb-8a68-90dfead94624"
      },
      "id": "zD9N9K4OTPHi",
      "execution_count": 16,
      "outputs": [
        {
          "output_type": "stream",
          "name": "stdout",
          "text": [
            "Середній чек за липень - 19.37755319670441\n",
            "Середній чек за серпень - 19.37322276512519\n"
          ]
        }
      ]
    },
    {
      "cell_type": "markdown",
      "source": [
        "**Як ми бачимо, незважаючи на те, що продажів було дещо більше, значення середнього чеку залишилось на такому ж рівні, навіть трішки зменшилось.**"
      ],
      "metadata": {
        "id": "oPmvYqK8ijZp"
      },
      "id": "oPmvYqK8ijZp"
    },
    {
      "cell_type": "code",
      "source": [
        "null_mean1 = 19.37755319670441\n",
        "null_mean2 = 19.37322276512519\n",
        "ztest_Score, p_value = ztest(data, data2, value=0)\n",
        "print(\"Z test score is\", ztest_Score)\n",
        "print(\"P-value is\", p_value)"
      ],
      "metadata": {
        "colab": {
          "base_uri": "https://localhost:8080/"
        },
        "id": "A9f5TdrELTed",
        "outputId": "88fe4db6-c0a8-4dec-c9d2-126705d11883"
      },
      "id": "A9f5TdrELTed",
      "execution_count": 17,
      "outputs": [
        {
          "output_type": "stream",
          "name": "stdout",
          "text": [
            "Z test score is [0.00524667]\n",
            "P-value is [0.99581378]\n"
          ]
        }
      ]
    },
    {
      "cell_type": "markdown",
      "source": [
        "**Z test score близький до нуля, що показує що різниця середніх значень дуже маленька. P-value велике, це свідчить про те, що ця різниця не є статистично значущою.**"
      ],
      "metadata": {
        "id": "ox0iLV2zbuH1"
      },
      "id": "ox0iLV2zbuH1"
    },
    {
      "cell_type": "markdown",
      "id": "e411f482",
      "metadata": {
        "id": "e411f482"
      },
      "source": [
        "## Аналіз A/B тесту"
      ]
    },
    {
      "cell_type": "markdown",
      "id": "f41183ed",
      "metadata": {
        "ExecuteTime": {
          "end_time": "2022-12-10T17:43:42.137588Z",
          "start_time": "2022-12-10T17:43:42.124712Z"
        },
        "id": "f41183ed"
      },
      "source": [
        "Маємо проаналізувати дані A/B тесту в популярній [грі Cookie Cats](https://www.facebook.com/cookiecatsgame). Це класична гра-головоломка в стилі «з’єднай три», де гравець повинен з’єднати плитки одного кольору, щоб очистити дошку та виграти рівень. На дошці також зображені співаючі котики :)\n",
        "\n",
        "Під час проходження гри гравці стикаються з воротами, які змушують їх чекати деякий час, перш ніж вони зможуть прогресувати або зробити покупку в додатку. У цьому блоці завдань ми проаналізуємо результати A/B тесту, коли перші ворота в Cookie Cats було переміщено з рівня 30 на рівень 40. Зокрема, ми проаналізуємо вплив на утримання (retention) гравців. Тобто хочемо зрозуміти чи переміщення воріт на 10 рівнів пізніше якимось чином вплинуло на те, що користувачі перестають грати в гру раніше чи пізніше з точки зору кількості їх днів з моменту встановлення гри.\n",
        "\n",
        "Будемо працювати з даними з файлу `cookie_cats.csv`. Змінні в даних наступні:\n",
        "\n",
        "- userid - унікальний номер, який ідентифікує кожного гравця.\n",
        "- version - чи потрапив гравець в контрольну групу (gate_30 - ворота на 30 рівні) чи тестову групу (gate_40 - ворота на 40 рівні).\n",
        "- sum_gamerounds - кількість ігрових раундів, зіграних гравцем протягом першого тижня після встановлення\n",
        "- retention_1 - чи через 1 день після встановлення гравець повернувся і почав грати?\n",
        "- retention_7 - чи через 7 днів після встановлення гравець повернувся і почав грати?\n",
        "\n",
        "Коли гравець встановлював гру, його випадковим чином призначали до групи gate_30 або gate_40."
      ]
    },
    {
      "cell_type": "markdown",
      "id": "22f03df4",
      "metadata": {
        "id": "22f03df4"
      },
      "source": [
        "6.Зчитайте дані АВ тесту у змінну `df` та виведіть середнє значення показника показник `retention_7` (утримання на 7 день) по версіям гри. Сформулюйте гіпотезу: яка версія дає краще утримання через 7 днів після встановлення гри?"
      ]
    },
    {
      "cell_type": "code",
      "execution_count": 38,
      "id": "9e0c2acb",
      "metadata": {
        "id": "9e0c2acb"
      },
      "outputs": [],
      "source": [
        "df = pd.read_csv('cookie_cats.csv')\n"
      ]
    },
    {
      "cell_type": "code",
      "source": [
        "mean_retention_7 = df.groupby('version')['retention_7'].mean()\n",
        "print(mean_retention_7)"
      ],
      "metadata": {
        "colab": {
          "base_uri": "https://localhost:8080/"
        },
        "id": "KSy5FiFWr_MC",
        "outputId": "607febbe-0bf6-46bd-8366-4d300800986a"
      },
      "id": "KSy5FiFWr_MC",
      "execution_count": 20,
      "outputs": [
        {
          "output_type": "stream",
          "name": "stdout",
          "text": [
            "version\n",
            "gate_30    0.190201\n",
            "gate_40    0.182000\n",
            "Name: retention_7, dtype: float64\n"
          ]
        }
      ]
    },
    {
      "cell_type": "markdown",
      "source": [
        "# На основі отриманих даних ми можемо сформулювати наступні гіпотези:\n",
        "# H0 - утримання на 7 день для версії з воротами на 30-му рівні не відрізняється від утримання для версії з воротами на 40-му рівні;\n",
        "# H1 - утримання на 7 день для версії з воротами на 30-му рівні вище, ніж для версії з воротами на 40-му рівні.\n",
        "\n"
      ],
      "metadata": {
        "id": "Qzl6nl_OjGQi"
      },
      "id": "Qzl6nl_OjGQi"
    },
    {
      "cell_type": "markdown",
      "id": "74e9c6ca",
      "metadata": {
        "id": "74e9c6ca"
      },
      "source": [
        "7.Перевірте з допомогою z-тесту аналогічно до прикладу в лекції, чи дає якась з версій гри кращий показник `retention_7` на рівні значущості 0.05. Обчисліть також довірчі інтервали для двох вибірок. Виведіть результат у форматі:\n",
        "```\n",
        "z statistic: ...\n",
        "p-value: ...\n",
        "Довірчий інтервал 95% для групи control: [..., ...]\n",
        "Довірчий інтервал 95% для групи treatment: [..., ...]\n",
        "```\n",
        "де замість `...` - обчислені значення. В якості висновка дайте відповідь на два питання:  \n",
        "    1. чи є статистична значущою різниця між поведінкою користувачів у різних версіях гри?   \n",
        "    2. чи перетинаються довірчі інтервали утримання користувачів з різних версій гри? Про що це каже?  \n",
        "    \n",
        "Зверніть увагу, в такому і схожому завданнях ми використовуєм `proportion` Z-тест. Це тому що в нас залежна змінна має бінарне значення (повернеться аби ні користувач, чи клікне або ні користувач в інших ситуаціях - всього два можливих значення в змінної: 0/1, True/False ). Якщо б ми вимірювали скажімо чи є стат. значущою різниця між вагою чоловіків і жінок в певній вибірці, ми б використовувавли функцію `statsmodels.stats.ztest`, бо залежна змінна `вага` є неперервною (тип float, замість типу int чи bool і тільки двох можливих значень)."
      ]
    },
    {
      "cell_type": "code",
      "source": [
        "control_results = df[df['version'] == 'gate_30']['retention_7']\n",
        "treatment_results = df[df['version'] == 'gate_40']['retention_7']\n",
        "n_con = control_results.count()\n",
        "n_treat = treatment_results.count()\n",
        "successes = [control_results.sum(), treatment_results.sum()]\n",
        "nobs = [n_con, n_treat]\n",
        "z_stat, pval = proportions_ztest(successes, nobs=nobs)\n",
        "(lower_con, lower_treat), (upper_con, upper_treat) = proportion_confint(successes, nobs=nobs, alpha=0.05)\n",
        "\n",
        "print(f'z statistic: {z_stat:.2f}')\n",
        "print(f'p-value: {p_value:.3f}')\n",
        "print(f'Довірчий інтервал 95% для групи control (gate_30): [{conf_interval_control[0]:.3f}, {conf_interval_control[1]:.3f}]')\n",
        "print(f'Довірчий інтервал 95% для групи treatment (gate_40): [{conf_interval_treatment[0]:.3f}, {conf_interval_treatment[1]:.3f}]')"
      ],
      "metadata": {
        "colab": {
          "base_uri": "https://localhost:8080/"
        },
        "id": "RDCJitNbQXvH",
        "outputId": "35df37bb-ac74-4674-9853-dab5140b25cf"
      },
      "id": "RDCJitNbQXvH",
      "execution_count": 30,
      "outputs": [
        {
          "output_type": "stream",
          "name": "stdout",
          "text": [
            "z statistic: 3.16\n",
            "p-value: 0.002\n",
            "Довірчий інтервал 95% для групи control (gate_30): [0.187, 0.194]\n",
            "Довірчий інтервал 95% для групи treatment (gate_40): [0.178, 0.186]\n"
          ]
        }
      ]
    },
    {
      "cell_type": "markdown",
      "source": [
        "# 1. Так поведінка користувачів у різних версіях гри є статистично значущою, про це свідчить p-value, яке нижче 0.05.\n",
        "# 2. Як ми бачимо, довірчі інтервали не перетинаються. Це ще раз доводить, що різниця між групами gate_30 та gate_40 є статистично значущою."
      ],
      "metadata": {
        "id": "2VMgnuXpRk5E"
      },
      "id": "2VMgnuXpRk5E"
    },
    {
      "cell_type": "markdown",
      "id": "076cd867",
      "metadata": {
        "ExecuteTime": {
          "end_time": "2022-12-10T20:50:10.709766Z",
          "start_time": "2022-12-10T20:50:10.639999Z"
        },
        "id": "076cd867"
      },
      "source": [
        "8.Є ще один тип тестів, який використовується для бінарної метрики як от \"зробить юзер дію, чи ні\" - тест **Хі-квадрат**. В нього інші гіпотези Н0 і Н1 на відміну від z- та t-тестів. А також цей тест можна використовувати, якщо в нас більше за 2 досліджувані групи, тобто в нас не А/В тест, а А/B/C/D, наприклад.  \n",
        "\n",
        "В **z- та t-тестах** (які відрізняються тим, що ми в першому не знаємо дисперсію генеральної сукупності, але якщо в нас великий набір даних, то ці два тести дають дуже схожі результати) **ми перевіряємо, чи є різниця у середніх показниках по групам користувачів**.  \n",
        "\n",
        "А в **тесті Хі-квадрат ми перевіряємо чи є звʼязок між групою користувача і тим, чи він зробить цікаву нам дію**. Це ніби дослідження одного і того самого, але дещо різними способами. Для перевірки, можна виконувати кілька тестів (особливо, якщо один дає якийсь непереконливий результат типу р-значення 0.07 - наче і fail to regect H0 на рівні стат значущості 5%, але цікаво, що скажуть інші тести), тож, зробимо і ми тест хі-квадрат та порівняємо його результат з z-тестом.\n",
        "\n",
        "Про різницю між тестами можна почитати ще [тут](https://stats.stackexchange.com/a/178860) - це просто пояснення користувача стековерфлоу, але там розумні люди сидять.\n",
        "\n",
        "Для проведення хі-квадрат тесту скористаємось функцією з `scipy.stats` `chi2_contingency` для обчислення статистики хі-квадрат і р-значення для перевірки конкретної гіпотези. У цю функцію вам треба передати таблицю 2х2: кількість випадків для кожної версії гри і значення `retention_7`.\n",
        "\n",
        "**Задача**: виконайте тест хі-квадрат на рівні значущості 5% аби визначити, чи є залежність між версією гри та тим, чи зайде гравець на 7ий день після встановлення гри.\n",
        "Тут гіпотези наступні\n",
        "- Н0: значення retention_7 не залежить від версії гри\n",
        "- Н1: є залежність між версією гри і значенням retention_7\n",
        "\n",
        "Виведіть p-значення та зробіть висновок.\n"
      ]
    },
    {
      "cell_type": "code",
      "source": [
        "from scipy.stats import chi2_contingency\n",
        "\n",
        "contingency_table = pd.crosstab(df['version'], df['retention_7'])\n",
        "\n",
        "chi2_stat, p_val_new, _, _ = chi2_contingency(contingency_table)\n",
        "\n",
        "print(\"P-value -\", p_val_new)"
      ],
      "metadata": {
        "colab": {
          "base_uri": "https://localhost:8080/"
        },
        "id": "OiBtMby7ZP7K",
        "outputId": "6950781c-2f25-4194-e452-ee65d931e5a5"
      },
      "id": "OiBtMby7ZP7K",
      "execution_count": 35,
      "outputs": [
        {
          "output_type": "stream",
          "name": "stdout",
          "text": [
            "P-value - 0.0016005742679058301\n"
          ]
        }
      ]
    },
    {
      "cell_type": "markdown",
      "source": [
        "**Оскільки p-value менше 0.05 (рівень значущості 5%), ми відхиляємо нульову гіпотезу і приймаємо альтернативну гіпотезу про наявність залежності між версією гри і значенням retention_7.**"
      ],
      "metadata": {
        "id": "4cy1-ZROdksa"
      },
      "id": "4cy1-ZROdksa"
    }
  ],
  "metadata": {
    "kernelspec": {
      "display_name": "Python 3 (ipykernel)",
      "language": "python",
      "name": "python3"
    },
    "language_info": {
      "codemirror_mode": {
        "name": "ipython",
        "version": 3
      },
      "file_extension": ".py",
      "mimetype": "text/x-python",
      "name": "python",
      "nbconvert_exporter": "python",
      "pygments_lexer": "ipython3",
      "version": "3.10.4"
    },
    "toc": {
      "base_numbering": 1,
      "nav_menu": {},
      "number_sections": true,
      "sideBar": true,
      "skip_h1_title": false,
      "title_cell": "Table of Contents",
      "title_sidebar": "Contents",
      "toc_cell": false,
      "toc_position": {},
      "toc_section_display": true,
      "toc_window_display": false
    },
    "colab": {
      "provenance": []
    }
  },
  "nbformat": 4,
  "nbformat_minor": 5
}